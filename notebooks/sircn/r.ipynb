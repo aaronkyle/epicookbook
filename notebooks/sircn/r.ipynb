{
 "cells": [
  {
   "cell_type": "markdown",
   "metadata": {},
   "source": [
    "## SIR model on a configuration network in R using simecol"
   ]
  },
  {
   "cell_type": "markdown",
   "metadata": {},
   "source": [
    "*Author*: Simon Frost\n",
    "\n",
    "*Date*: 2018-07-12"
   ]
  },
  {
   "cell_type": "markdown",
   "metadata": {},
   "source": [
    "### Description"
   ]
  },
  {
   "cell_type": "markdown",
   "metadata": {},
   "source": [
    "### Equations"
   ]
  },
  {
   "cell_type": "markdown",
   "metadata": {},
   "source": [
    "$$\n",
    "$$"
   ]
  },
  {
   "cell_type": "markdown",
   "metadata": {},
   "source": [
    "### References"
   ]
  },
  {
   "cell_type": "markdown",
   "metadata": {},
   "source": [
    "### Implementation"
   ]
  },
  {
   "cell_type": "code",
   "execution_count": 5,
   "metadata": {},
   "outputs": [],
   "source": [
    "library(simecol)\n",
    "library(reshape2)"
   ]
  },
  {
   "cell_type": "code",
   "execution_count": 3,
   "metadata": {},
   "outputs": [],
   "source": [
    "sir.cn.ode <- new(\"odeModel\",\n",
    "  main = function(time, init, parms, ...){\n",
    "    with(as.list(c(init,parms)),{\n",
    "      dtheta <- -beta*theta+beta*(dpsi(theta,k)/dpsi(1,k))+gamma*(1-theta)\n",
    "      S <- psi(theta,k)\n",
    "      I <- 1-S-R\n",
    "      dR <- gamma*I\n",
    "      list(c(dtheta,dR))\n",
    "    })},\n",
    "  equations = list(),\n",
    "  parms = c(beta=0.1,gamma=0.05,k=5),\n",
    "  times = c(from=0,to=125,by=0.01),\n",
    "  init = c(theta=0.999,R=0),\n",
    "  solver = \"lsoda\"\n",
    ")\n",
    "poisgn <- list(\n",
    "  psi = function(theta,k){theta^k},\n",
    "  dpsi = function(theta,k){k*theta^(k-1)},\n",
    "  dpsi2 = function(theta,k){k*(k-1)*theta^(k-2)}\n",
    ")\n",
    "equations(sir.cn.ode) <- poisgn\n",
    "sir.cn.ode <- sim(sir.cn.ode)\n",
    "sir.cn.out <- out(sir.cn.ode)\n",
    "sir.cn.out$S <- sir.cn.out$theta^parms(sir.cn.ode)[[\"k\"]]\n",
    "sir.cn.out$I <- 1-sir.cn.out$S-sir.cn.out$R"
   ]
  },
  {
   "cell_type": "code",
   "execution_count": 6,
   "metadata": {},
   "outputs": [],
   "source": [
    "sir.cn.out.long <- melt(as.data.frame(sir.cn.out),\"time\")"
   ]
  },
  {
   "cell_type": "markdown",
   "metadata": {},
   "source": [
    "## Visualisation"
   ]
  },
  {
   "cell_type": "code",
   "execution_count": 8,
   "metadata": {},
   "outputs": [],
   "source": [
    "library(ggplot2)"
   ]
  },
  {
   "cell_type": "code",
   "execution_count": 10,
   "metadata": {},
   "outputs": [
    {
     "data": {},
     "metadata": {},
     "output_type": "display_data"
    },
    {
     "data": {
      "image/png": "[encoded data removed]",
      "text/plain": [
       "plot without title"
      ]
     },
     "metadata": {},
     "output_type": "display_data"
    }
   ],
   "source": [
    "ggplot(sir.cn.out.long,aes(x=time,y=value,colour=variable,group=variable))+\n",
    "  # Add line\n",
    "  geom_line(lwd=2)+\n",
    "  #Add labels\n",
    "  xlab(\"Time\")+ylab(\"Number\")"
   ]
  }
 ],
 "metadata": {
  "kernelspec": {
   "display_name": "R",
   "language": "R",
   "name": "ir"
  },
  "language_info": {
   "codemirror_mode": "r",
   "file_extension": ".r",
   "mimetype": "text/x-r-source",
   "name": "R",
   "pygments_lexer": "r",
   "version": "3.4.4"
  }
 },
 "nbformat": 4,
 "nbformat_minor": 2
}
