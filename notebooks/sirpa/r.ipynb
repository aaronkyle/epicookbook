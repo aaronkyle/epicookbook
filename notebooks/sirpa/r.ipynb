{
 "cells": [
  {
   "cell_type": "markdown",
   "metadata": {},
   "source": [
    "## Network SIR model with pair approximation"
   ]
  },
  {
   "cell_type": "code",
   "execution_count": 1,
   "metadata": {},
   "outputs": [],
   "source": [
    "library(deSolve)\n",
    "library(simecol)\n",
    "library(reshape2)"
   ]
  },
  {
   "cell_type": "code",
   "execution_count": 2,
   "metadata": {},
   "outputs": [],
   "source": [
    "sir_pa_ode <- new(\"odeModel\",\n",
    "  main = function(time, init, parms, ...){\n",
    "    with(as.list(c(init,parms)),{\n",
    "      # Closure\n",
    "      SSI <- (k-1)*SS*SI/(k*S)\n",
    "      ISS <- (k-1)*SI*SS/(k*S)\n",
    "      ISI <- (k-1)*SI*SI/(k*S)\n",
    "      # ODEs\n",
    "      dS <- -beta*SI\n",
    "      dI <- beta*SI-gamma*I\n",
    "      dSS <- -beta*(SSI+ISS)\n",
    "      dSI <- beta*(SSI-ISI)-beta*SI-gamma*SI\n",
    "      dII <- beta*(2*ISI)+2*beta*SI-2*gamma*II\n",
    "      list(c(dS,dI,dSS,dSI,dII))\n",
    "    })},\n",
    "  parms = c(beta=3,gamma=1.0,k=5),\n",
    "  times = c(from=0,to=20,by=0.01),\n",
    "  init = c(S=0.999,I=0.001,SS=0.999*0.999,SI=0.999*0.001,II=0.001*0.001),\n",
    "  solver = \"lsoda\"\n",
    ")"
   ]
  },
  {
   "cell_type": "code",
   "execution_count": 3,
   "metadata": {},
   "outputs": [],
   "source": [
    "sir_pa_ode <- sim(sir_pa_ode)"
   ]
  },
  {
   "cell_type": "code",
   "execution_count": 4,
   "metadata": {},
   "outputs": [],
   "source": [
    "sir_pa_out <- out(sir_pa_ode)\n",
    "sir_pa_out_long <- melt(as.data.frame(sir_pa_out),\"time\")"
   ]
  },
  {
   "cell_type": "markdown",
   "metadata": {},
   "source": [
    "### Visualisation"
   ]
  },
  {
   "cell_type": "code",
   "execution_count": 5,
   "metadata": {},
   "outputs": [],
   "source": [
    "library(ggplot2)"
   ]
  },
  {
   "cell_type": "code",
   "execution_count": 6,
   "metadata": {},
   "outputs": [
    {
     "data": {},
     "metadata": {},
     "output_type": "display_data"
    },
    {
     "data": {
      "image/png": "[encoded data removed]",
      "text/plain": [
       "plot without title"
      ]
     },
     "metadata": {},
     "output_type": "display_data"
    }
   ],
   "source": [
    "ggplot(sir_pa_out_long,aes(x=time,y=value,colour=variable,group=variable))+\n",
    "  # Add line\n",
    "  geom_line(lwd=2)+\n",
    "  #Add labels\n",
    "  xlab(\"Time\")+ylab(\"Number\")"
   ]
  }
 ],
 "metadata": {
  "kernelspec": {
   "display_name": "R",
   "language": "R",
   "name": "ir"
  },
  "language_info": {
   "codemirror_mode": "r",
   "file_extension": ".r",
   "mimetype": "text/x-r-source",
   "name": "R",
   "pygments_lexer": "r",
   "version": "3.4.4"
  }
 },
 "nbformat": 4,
 "nbformat_minor": 2
}
