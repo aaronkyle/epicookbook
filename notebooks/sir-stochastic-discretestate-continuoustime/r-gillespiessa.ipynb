{
 "cells": [
  {
   "cell_type": "markdown",
   "metadata": {},
   "source": [
    "### Stochastic SIR model (discrete state, continuous time) in R using GillespieSSA"
   ]
  },
  {
   "cell_type": "code",
   "execution_count": 1,
   "metadata": {},
   "outputs": [],
   "source": [
    "library(GillespieSSA)\n",
    "library(reshape2)"
   ]
  },
  {
   "cell_type": "code",
   "execution_count": 2,
   "metadata": {},
   "outputs": [],
   "source": [
    "a <- c(\"beta*S*I\",\"gamma*I\")\n",
    "nu <- matrix(c(-1,+1,0,0,-1,+1),nrow=3,ncol=2,byrow=FALSE)"
   ]
  },
  {
   "cell_type": "code",
   "execution_count": 3,
   "metadata": {},
   "outputs": [],
   "source": [
    "# GillespieSSA\n",
    "parms <- c(beta=0.1/1000,gamma=0.05)\n",
    "x0 <- c(S=999,I=1,R=0)\n",
    "tf <- 200"
   ]
  },
  {
   "cell_type": "code",
   "execution_count": 4,
   "metadata": {},
   "outputs": [],
   "source": [
    "set.seed(42)"
   ]
  },
  {
   "cell_type": "code",
   "execution_count": 5,
   "metadata": {},
   "outputs": [],
   "source": [
    "sir_out <- ssa(x0,a,nu,parms,tf=tf,simName=\"SIR\")"
   ]
  },
  {
   "cell_type": "code",
   "execution_count": 6,
   "metadata": {},
   "outputs": [],
   "source": [
    "while(sir_out$stats$nSteps==1){\n",
    "    sir_out <- ssa(x0,a,nu,parms,tf=tf,simName=\"SIR\")\n",
    "}"
   ]
  },
  {
   "cell_type": "code",
   "execution_count": 7,
   "metadata": {},
   "outputs": [
    {
     "data": {
      "text/html": [
       "<table>\n",
       "<thead><tr><th></th><th scope=col></th><th scope=col>S</th><th scope=col>I</th><th scope=col>R</th></tr></thead>\n",
       "<tbody>\n",
       "\t<tr><th scope=row>timeSeries</th><td>0.000000</td><td>999     </td><td>1       </td><td>0       </td></tr>\n",
       "\t<tr><th scope=row></th><td>1.239429</td><td>998     </td><td>2       </td><td>0       </td></tr>\n",
       "\t<tr><th scope=row></th><td>3.427902</td><td>997     </td><td>3       </td><td>0       </td></tr>\n",
       "\t<tr><th scope=row></th><td>7.892282</td><td>997     </td><td>2       </td><td>1       </td></tr>\n",
       "\t<tr><th scope=row></th><td>9.059502</td><td>996     </td><td>3       </td><td>1       </td></tr>\n",
       "\t<tr><th scope=row></th><td>9.794212</td><td>995     </td><td>4       </td><td>1       </td></tr>\n",
       "</tbody>\n",
       "</table>\n"
      ],
      "text/latex": [
       "\\begin{tabular}{r|llll}\n",
       "  &  & S & I & R\\\\\n",
       "\\hline\n",
       "\ttimeSeries & 0.000000 & 999      & 1        & 0       \\\\\n",
       "\t & 1.239429 & 998      & 2        & 0       \\\\\n",
       "\t & 3.427902 & 997      & 3        & 0       \\\\\n",
       "\t & 7.892282 & 997      & 2        & 1       \\\\\n",
       "\t & 9.059502 & 996      & 3        & 1       \\\\\n",
       "\t & 9.794212 & 995      & 4        & 1       \\\\\n",
       "\\end{tabular}\n"
      ],
      "text/markdown": [
       "\n",
       "| <!--/--> |  | S | I | R | \n",
       "|---|---|---|---|---|---|\n",
       "| timeSeries | 0.000000 | 999      | 1        | 0        | \n",
       "|  | 1.239429 | 998      | 2        | 0        | \n",
       "|  | 3.427902 | 997      | 3        | 0        | \n",
       "|  | 7.892282 | 997      | 2        | 1        | \n",
       "|  | 9.059502 | 996      | 3        | 1        | \n",
       "|  | 9.794212 | 995      | 4        | 1        | \n",
       "\n",
       "\n"
      ],
      "text/plain": [
       "                    S   I R\n",
       "timeSeries 0.000000 999 1 0\n",
       "           1.239429 998 2 0\n",
       "           3.427902 997 3 0\n",
       "           7.892282 997 2 1\n",
       "           9.059502 996 3 1\n",
       "           9.794212 995 4 1"
      ]
     },
     "metadata": {},
     "output_type": "display_data"
    }
   ],
   "source": [
    "head(sir_out$data)"
   ]
  },
  {
   "cell_type": "code",
   "execution_count": 8,
   "metadata": {},
   "outputs": [],
   "source": [
    "sir_out_long <- melt(as.data.frame(sir_out$data),\"V1\")"
   ]
  },
  {
   "cell_type": "markdown",
   "metadata": {},
   "source": [
    "#### Visualisation"
   ]
  },
  {
   "cell_type": "code",
   "execution_count": 9,
   "metadata": {},
   "outputs": [],
   "source": [
    "library(ggplot2)"
   ]
  },
  {
   "cell_type": "code",
   "execution_count": 10,
   "metadata": {},
   "outputs": [
    {
     "data": {},
     "metadata": {},
     "output_type": "display_data"
    },
    {
     "data": {
      "image/png": "[encoded data removed]",
      "text/plain": [
       "plot without title"
      ]
     },
     "metadata": {},
     "output_type": "display_data"
    }
   ],
   "source": [
    "ggplot(sir_out_long,aes(x=V1,y=value,colour=variable,group=variable))+\n",
    "  # Add line\n",
    "  geom_line(lwd=2)+\n",
    "  #Add labels\n",
    "  xlab(\"Time\")+ylab(\"Number\")"
   ]
  }
 ],
 "metadata": {
  "kernelspec": {
   "display_name": "R",
   "language": "R",
   "name": "ir"
  },
  "language_info": {
   "codemirror_mode": "r",
   "file_extension": ".r",
   "mimetype": "text/x-r-source",
   "name": "R",
   "pygments_lexer": "r",
   "version": "3.4.4"
  }
 },
 "nbformat": 4,
 "nbformat_minor": 2
}
