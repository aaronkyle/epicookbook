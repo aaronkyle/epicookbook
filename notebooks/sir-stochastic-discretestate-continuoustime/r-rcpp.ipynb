{
 "cells": [
  {
   "cell_type": "markdown",
   "metadata": {},
   "source": [
    "### Stochastic SIR model (discrete state, continuous time) in R/Rcpp"
   ]
  },
  {
   "cell_type": "code",
   "execution_count": 1,
   "metadata": {},
   "outputs": [],
   "source": [
    "library(reshape2)\n",
    "library(Rcpp)"
   ]
  },
  {
   "cell_type": "code",
   "execution_count": 2,
   "metadata": {},
   "outputs": [],
   "source": [
    "cppFunction('\n",
    "  List sirc(double beta, double gamma, double N, double S0, double I0, double R0, double tf){\n",
    "    double t = 0;\n",
    "    double S = S0;\n",
    "    double I = I0;\n",
    "    double R = R0;\n",
    "    std::vector<double> ta;\n",
    "    std::vector<double> Sa;\n",
    "    std::vector<double> Ia;\n",
    "    std::vector<double> Ra;\n",
    "    do{\n",
    "      ta.push_back(t);\n",
    "      Sa.push_back(S);\n",
    "      Ia.push_back(I);\n",
    "      Ra.push_back(R);\n",
    "      double pf1 = beta*S*I;\n",
    "      double pf2 = gamma*I;\n",
    "      double pf = pf1+pf2;\n",
    "      double dt = rexp(1,pf)[0];\n",
    "      t += dt;\n",
    "      double r = runif(1)[0];\n",
    "      if(r<pf1/pf){\n",
    "        S--;\n",
    "        I++;\n",
    "      }else{\n",
    "        I--;\n",
    "        R++;\n",
    "      }\n",
    "      if(I==0){break;}\n",
    "    } while (t<=tf && (I>0));\n",
    "  return List::create(_[\"time\"] = ta, _[\"S\"] = Sa, _[\"I\"] = Ia, _[\"R\"]=Ra);\n",
    "  }'\n",
    ")"
   ]
  },
  {
   "cell_type": "code",
   "execution_count": 3,
   "metadata": {},
   "outputs": [],
   "source": [
    "set.seed(42)"
   ]
  },
  {
   "cell_type": "code",
   "execution_count": 4,
   "metadata": {},
   "outputs": [],
   "source": [
    "sir_out_list <- sirc(0.1/1000,0.05,1000,999,1,0,200)"
   ]
  },
  {
   "cell_type": "code",
   "execution_count": 5,
   "metadata": {},
   "outputs": [],
   "source": [
    "sir_out <- as.data.frame(sir_out_list)"
   ]
  },
  {
   "cell_type": "code",
   "execution_count": 6,
   "metadata": {},
   "outputs": [],
   "source": [
    "if(dim(sir_out)[1]==1){\n",
    "    sir_out_list <- sirc(0.1/1000,0.05,1000,999,1,0,200)\n",
    "    sir_out <- as.data.frame(sir_out_list)\n",
    "}"
   ]
  },
  {
   "cell_type": "code",
   "execution_count": 7,
   "metadata": {},
   "outputs": [
    {
     "data": {
      "text/html": [
       "<table>\n",
       "<thead><tr><th scope=col>time</th><th scope=col>S</th><th scope=col>I</th><th scope=col>R</th></tr></thead>\n",
       "<tbody>\n",
       "\t<tr><td> 0.000000</td><td>999      </td><td>1        </td><td>0        </td></tr>\n",
       "\t<tr><td> 1.891201</td><td>998      </td><td>2        </td><td>0        </td></tr>\n",
       "\t<tr><td> 3.470562</td><td>997      </td><td>3        </td><td>0        </td></tr>\n",
       "\t<tr><td> 4.169704</td><td>997      </td><td>2        </td><td>1        </td></tr>\n",
       "\t<tr><td> 8.149657</td><td>996      </td><td>3        </td><td>1        </td></tr>\n",
       "\t<tr><td>11.145904</td><td>995      </td><td>4        </td><td>1        </td></tr>\n",
       "</tbody>\n",
       "</table>\n"
      ],
      "text/latex": [
       "\\begin{tabular}{r|llll}\n",
       " time & S & I & R\\\\\n",
       "\\hline\n",
       "\t  0.000000 & 999       & 1         & 0        \\\\\n",
       "\t  1.891201 & 998       & 2         & 0        \\\\\n",
       "\t  3.470562 & 997       & 3         & 0        \\\\\n",
       "\t  4.169704 & 997       & 2         & 1        \\\\\n",
       "\t  8.149657 & 996       & 3         & 1        \\\\\n",
       "\t 11.145904 & 995       & 4         & 1        \\\\\n",
       "\\end{tabular}\n"
      ],
      "text/markdown": [
       "\n",
       "time | S | I | R | \n",
       "|---|---|---|---|---|---|\n",
       "|  0.000000 | 999       | 1         | 0         | \n",
       "|  1.891201 | 998       | 2         | 0         | \n",
       "|  3.470562 | 997       | 3         | 0         | \n",
       "|  4.169704 | 997       | 2         | 1         | \n",
       "|  8.149657 | 996       | 3         | 1         | \n",
       "| 11.145904 | 995       | 4         | 1         | \n",
       "\n",
       "\n"
      ],
      "text/plain": [
       "  time      S   I R\n",
       "1  0.000000 999 1 0\n",
       "2  1.891201 998 2 0\n",
       "3  3.470562 997 3 0\n",
       "4  4.169704 997 2 1\n",
       "5  8.149657 996 3 1\n",
       "6 11.145904 995 4 1"
      ]
     },
     "metadata": {},
     "output_type": "display_data"
    }
   ],
   "source": [
    "head(sir_out)"
   ]
  },
  {
   "cell_type": "code",
   "execution_count": 8,
   "metadata": {},
   "outputs": [],
   "source": [
    "sir_out_long <- melt(sir_out,\"time\")"
   ]
  },
  {
   "cell_type": "markdown",
   "metadata": {},
   "source": [
    "#### Visualisation"
   ]
  },
  {
   "cell_type": "code",
   "execution_count": 9,
   "metadata": {},
   "outputs": [],
   "source": [
    "library(ggplot2)"
   ]
  },
  {
   "cell_type": "code",
   "execution_count": 10,
   "metadata": {},
   "outputs": [
    {
     "data": {},
     "metadata": {},
     "output_type": "display_data"
    },
    {
     "data": {
      "image/png": "[encoded data removed]",
      "text/plain": [
       "plot without title"
      ]
     },
     "metadata": {},
     "output_type": "display_data"
    }
   ],
   "source": [
    "ggplot(sir_out_long,aes(x=time,y=value,colour=variable,group=variable))+\n",
    "  # Add line\n",
    "  geom_line(lwd=2)+\n",
    "  #Add labels\n",
    "  xlab(\"Time\")+ylab(\"Number\")"
   ]
  }
 ],
 "metadata": {
  "kernelspec": {
   "display_name": "R",
   "language": "R",
   "name": "ir"
  },
  "language_info": {
   "codemirror_mode": "r",
   "file_extension": ".r",
   "mimetype": "text/x-r-source",
   "name": "R",
   "pygments_lexer": "r",
   "version": "3.4.4"
  }
 },
 "nbformat": 4,
 "nbformat_minor": 2
}
