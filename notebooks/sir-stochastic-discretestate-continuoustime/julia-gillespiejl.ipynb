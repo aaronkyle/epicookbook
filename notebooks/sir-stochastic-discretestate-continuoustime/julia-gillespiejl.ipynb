{
 "cells": [
  {
   "cell_type": "markdown",
   "metadata": {},
   "source": [
    "### Stochastic SIR model (discrete state, continuous time) in Julia and Gillespie.jl"
   ]
  },
  {
   "cell_type": "code",
   "execution_count": 1,
   "metadata": {},
   "outputs": [],
   "source": [
    "using Gillespie"
   ]
  },
  {
   "cell_type": "code",
   "execution_count": 2,
   "metadata": {},
   "outputs": [
    {
     "data": {
      "text/plain": [
       "F (generic function with 1 method)"
      ]
     },
     "execution_count": 2,
     "metadata": {},
     "output_type": "execute_result"
    }
   ],
   "source": [
    "function F(x,parms)\n",
    "  (S,I,R) = x\n",
    "  (beta,gamma) = parms\n",
    "  infection = beta*S*I\n",
    "  recovery = gamma*I\n",
    "  [infection,recovery]\n",
    "end"
   ]
  },
  {
   "cell_type": "code",
   "execution_count": 3,
   "metadata": {},
   "outputs": [
    {
     "data": {
      "text/plain": [
       "2×3 Array{Int64,2}:\n",
       " -1   1  0\n",
       "  0  -1  1"
      ]
     },
     "execution_count": 3,
     "metadata": {},
     "output_type": "execute_result"
    }
   ],
   "source": [
    "nu = [[-1 1 0];[0 -1 1]]"
   ]
  },
  {
   "cell_type": "code",
   "execution_count": 4,
   "metadata": {},
   "outputs": [
    {
     "data": {
      "text/plain": [
       "200.0"
      ]
     },
     "execution_count": 4,
     "metadata": {},
     "output_type": "execute_result"
    }
   ],
   "source": [
    "x0 = [999,1,0]\n",
    "parms = [0.1/1000.0,0.05]\n",
    "tf = 200.0"
   ]
  },
  {
   "cell_type": "code",
   "execution_count": 5,
   "metadata": {},
   "outputs": [
    {
     "data": {
      "text/plain": [
       "MersenneTwister(UInt32[0x000004d2], Base.dSFMT.DSFMT_state(Int32[-1393240018, 1073611148, 45497681, 1072875908, 436273599, 1073674613, -2043716458, 1073445557, -254908435, 1072827086  …  -599655111, 1073144102, 367655457, 1072985259, -1278750689, 1018350124, -597141475, 249849711, 382, 0]), [1.75533, 1.69829, 1.44882, 1.7184, 1.70345, 1.85647, 1.12359, 1.58512, 1.80944, 1.60914  …  1.37497, 1.00779, 1.65009, 1.34333, 1.21646, 1.04886, 1.53358, 1.47505, 1.15218, 1.26739], 382)"
      ]
     },
     "execution_count": 5,
     "metadata": {},
     "output_type": "execute_result"
    }
   ],
   "source": [
    "srand(1234)"
   ]
  },
  {
   "cell_type": "code",
   "execution_count": 6,
   "metadata": {},
   "outputs": [],
   "source": [
    "result = ssa(x0,F,nu,parms,tf)\n",
    "data = ssa_data(result);"
   ]
  },
  {
   "cell_type": "code",
   "execution_count": 7,
   "metadata": {},
   "outputs": [
    {
     "ename": "LoadError",
     "evalue": "\u001b[91mInterruptException:\u001b[39m",
     "output_type": "error",
     "traceback": [
      "\u001b[91mInterruptException:\u001b[39m",
      "",
      "Stacktrace:",
      " [1] \u001b[1mBitArray{1}\u001b[22m\u001b[22m\u001b[1m(\u001b[22m\u001b[22m::Int64\u001b[1m)\u001b[22m\u001b[22m at \u001b[1m./bitarray.jl:0\u001b[22m\u001b[22m",
      " [2] \u001b[1mupgrade_vector\u001b[22m\u001b[22m at \u001b[1m/home/simon/.julia/v0.6/DataFrames/src/dataframe/dataframe.jl:347\u001b[22m\u001b[22m [inlined]",
      " [3] \u001b[1msetindex!\u001b[22m\u001b[22m\u001b[1m(\u001b[22m\u001b[22m::DataFrames.DataFrame, ::Array{Int64,1}, ::Symbol\u001b[1m)\u001b[22m\u001b[22m at \u001b[1m/home/simon/.julia/v0.6/DataFrames/src/dataframe/dataframe.jl:364\u001b[22m\u001b[22m",
      " [4] \u001b[1mhcat!\u001b[22m\u001b[22m\u001b[1m(\u001b[22m\u001b[22m::DataFrames.DataFrame, ::DataFrames.DataFrame\u001b[1m)\u001b[22m\u001b[22m at \u001b[1m/home/simon/.julia/v0.6/DataFrames/src/dataframe/dataframe.jl:721\u001b[22m\u001b[22m",
      " [5] \u001b[1mssa_data\u001b[22m\u001b[22m\u001b[1m(\u001b[22m\u001b[22m::Gillespie.SSAResult\u001b[1m)\u001b[22m\u001b[22m at \u001b[1m/home/simon/.julia/v0.6/Gillespie/src/SSA.jl:329\u001b[22m\u001b[22m",
      " [6] \u001b[1mmacro expansion\u001b[22m\u001b[22m at \u001b[1m./In[7]:3\u001b[22m\u001b[22m [inlined]",
      " [7] \u001b[1manonymous\u001b[22m\u001b[22m at \u001b[1m./<missing>:?\u001b[22m\u001b[22m"
     ]
    }
   ],
   "source": [
    "while length(data[1])<5\n",
    "    result = ssa(x0,F,nu,parms,tf)\n",
    "    data = ssa_data(result);\n",
    "end"
   ]
  },
  {
   "cell_type": "code",
   "execution_count": 8,
   "metadata": {},
   "outputs": [
    {
     "data": {
      "text/html": [
       "<table class=\"data-frame\"><thead><tr><th></th><th>time</th><th>x1</th><th>x2</th><th>x3</th></tr></thead><tbody><tr><th>1</th><td>0.0</td><td>999</td><td>0</td><td>1</td></tr></tbody></table>"
      ],
      "text/plain": [
       "1×4 DataFrames.DataFrame\n",
       "│ Row │ time │ x1  │ x2 │ x3 │\n",
       "├─────┼──────┼─────┼────┼────┤\n",
       "│ 1   │ 0.0  │ 999 │ 0  │ 1  │"
      ]
     },
     "execution_count": 8,
     "metadata": {},
     "output_type": "execute_result"
    }
   ],
   "source": [
    "data"
   ]
  }
 ],
 "metadata": {
  "kernelspec": {
   "display_name": "Julia 0.6.3",
   "language": "julia",
   "name": "julia-0.6"
  },
  "language_info": {
   "file_extension": ".jl",
   "mimetype": "application/julia",
   "name": "julia",
   "version": "0.6.3"
  }
 },
 "nbformat": 4,
 "nbformat_minor": 2
}
