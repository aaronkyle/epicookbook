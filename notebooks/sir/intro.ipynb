{
 "cells": [
  {
   "cell_type": "markdown",
   "metadata": {},
   "source": [
    "## SIR model"
   ]
  },
  {
   "cell_type": "markdown",
   "metadata": {},
   "source": [
    "*Author*: Simon Frost\n",
    "\n",
    "*Date*: 2018-07-12"
   ]
  },
  {
   "cell_type": "markdown",
   "metadata": {},
   "source": [
    "### Description\n",
    "\n",
    "The susceptible-infected-recovered (SIR) model in a closed population was proposed by Kermack and McKendrick as a special case of a more general model, and forms the framework of many compartmental models. Susceptible individuals, $S$, are infected by infected individuals, $I$, at a per-capita rate $\\beta I$, and infected individuals recover at a per-capita rate $\\gamma$ to become recovered individuals, $R$."
   ]
  },
  {
   "cell_type": "markdown",
   "metadata": {},
   "source": [
    "### Equations"
   ]
  },
  {
   "cell_type": "markdown",
   "metadata": {},
   "source": [
    "$$\n",
    "\\frac{dS(t)}{dt}  = -\\beta S(t) I(t)\\\\\n",
    "\\frac{dI(t)}{dt}  = \\beta S(t) I(t)- \\gamma I(t)\\\\\n",
    "\\frac{dR(t)}{dt}  = \\gamma I(t)\n",
    "$$"
   ]
  },
  {
   "cell_type": "markdown",
   "metadata": {},
   "source": [
    "### References\n",
    "\n",
    "1. [Kermack WO, McKendrick AG (August 1, 1927). \"A Contribution to the Mathematical Theory of Epidemics\". Proceedings of the Royal Society A. 115 (772): 700–721](https://doi.org/10.1098/rspa.1927.0118)\n",
    "1. [https://en.wikipedia.org/wiki/Compartmental_models_in_epidemiology](https://en.wikipedia.org/wiki/Compartmental_models_in_epidemiology)"
   ]
  }
 ],
 "metadata": {
  "kernelspec": {
   "display_name": "R",
   "language": "R",
   "name": "ir"
  },
  "language_info": {
   "codemirror_mode": "r",
   "file_extension": ".r",
   "mimetype": "text/x-r-source",
   "name": "R",
   "pygments_lexer": "r",
   "version": "3.4.4"
  }
 },
 "nbformat": 4,
 "nbformat_minor": 2
}
