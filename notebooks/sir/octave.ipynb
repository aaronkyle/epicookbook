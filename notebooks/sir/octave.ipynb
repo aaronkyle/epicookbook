{
 "cells": [
  {
   "cell_type": "markdown",
   "metadata": {},
   "source": [
    "## SIR model using Octave and LSODE"
   ]
  },
  {
   "cell_type": "markdown",
   "metadata": {},
   "source": [
    "Octave requires a function that returns the gradient of the system, given the current state of the system, `x` and the time, `t`."
   ]
  },
  {
   "cell_type": "code",
   "execution_count": 1,
   "metadata": {},
   "outputs": [],
   "source": [
    "function xdot = sir_eqn(x,t)\n",
    "    % Parameter values\n",
    "    beta=0.1;\n",
    "    mu=0.05;\n",
    "\n",
    "    % Define variables\n",
    "    s = x(1);\n",
    "    y = x(2);\n",
    "    r = x(3);\n",
    "\n",
    "    % Define ODEs\n",
    "    ds=-beta*s*y;\n",
    "    dy=beta*s*y-mu*y;\n",
    "    dr=mu*y;\n",
    "\n",
    "    % Return gradients\n",
    "    xdot = [ds,dy,dr];\n",
    "endfunction"
   ]
  },
  {
   "cell_type": "markdown",
   "metadata": {},
   "source": [
    "We then set up the time axis over which to integrate and the initial conditions."
   ]
  },
  {
   "cell_type": "code",
   "execution_count": 2,
   "metadata": {},
   "outputs": [],
   "source": [
    "t = linspace(0, 200, 2001)+.1;\n",
    "x0=[0.99,0.01,0];"
   ]
  },
  {
   "cell_type": "markdown",
   "metadata": {},
   "source": [
    "The function lsode can be used to solve ODEs of this form using Hindmarsh’s ODE solver [LSODE](https://computation.llnl.gov/casc/nsde/pubs/u113855.pdf)."
   ]
  },
  {
   "cell_type": "code",
   "execution_count": 3,
   "metadata": {},
   "outputs": [],
   "source": [
    "x = lsode(\"sir_eqn\",x0, t);"
   ]
  },
  {
   "cell_type": "markdown",
   "metadata": {},
   "source": [
    "The following saves the times and the states."
   ]
  },
  {
   "cell_type": "code",
   "execution_count": 25,
   "metadata": {},
   "outputs": [],
   "source": [
    "out=[transpose(t),x];\n",
    "save -ascii sir_octave.out out;"
   ]
  },
  {
   "cell_type": "code",
   "execution_count": 23,
   "metadata": {},
   "outputs": [
    {
     "name": "stdout",
     "output_type": "stream",
     "text": [
      " 1.00000000e-01 9.90000000e-01 1.00000000e-02 0.00000000e+00\n",
      " 2.00000000e-01 9.89900759e-01 1.00491165e-02 5.01241223e-05\n",
      " 3.00000000e-01 9.89801042e-01 1.00984640e-02 1.00494189e-04\n",
      " 4.00000000e-01 9.89700844e-01 1.01480441e-02 1.51112049e-04\n",
      " 5.00000000e-01 9.89600163e-01 1.01978578e-02 2.01979039e-04\n",
      " 6.00000000e-01 9.89499005e-01 1.02479029e-02 2.53092305e-04\n",
      " 7.00000000e-01 9.89397349e-01 1.02981882e-02 3.04462323e-04\n",
      " 8.00000000e-01 9.89295211e-01 1.03487075e-02 3.56081707e-04\n",
      " 9.00000000e-01 9.89192584e-01 1.03994631e-02 4.07953352e-04\n",
      " 1.00000000e+00 9.89089464e-01 1.04504565e-02 4.60079036e-04\n"
     ]
    }
   ],
   "source": [
    "!head sir_octave.out"
   ]
  },
  {
   "cell_type": "markdown",
   "metadata": {},
   "source": [
    "### Visualisation"
   ]
  },
  {
   "cell_type": "code",
   "execution_count": 21,
   "metadata": {},
   "outputs": [
    {
     "data": {
      "image/png": "[encoded data removed]",
      "text/plain": [
       "<IPython.core.display.Image object>"
      ]
     },
     "metadata": {},
     "output_type": "display_data"
    }
   ],
   "source": [
    "plot(t,x(:,1),\"-r\",t,x(:,2),\"-g\",t,x(:,3),\"-b\")\n",
    "xlim([0 200])\n",
    "xlabel(\"Time\",\"fontweight\",\"bold\")\n",
    "ylabel(\"Number\",\"fontweight\",\"bold\")\n",
    "h = legend(\"S\",\"I\",\"R\");\n",
    "legend(h,\"show\")"
   ]
  }
 ],
 "metadata": {
  "kernelspec": {
   "display_name": "Octave",
   "language": "octave",
   "name": "octave"
  },
  "language_info": {
   "file_extension": ".m",
   "help_links": [
    {
     "text": "GNU Octave",
     "url": "https://www.gnu.org/software/octave/support.html"
    },
    {
     "text": "Octave Kernel",
     "url": "https://github.com/Calysto/octave_kernel"
    },
    {
     "text": "MetaKernel Magics",
     "url": "https://github.com/calysto/metakernel/blob/master/metakernel/magics/README.md"
    }
   ],
   "mimetype": "text/x-octave",
   "name": "octave",
   "version": "4.2.2"
  }
 },
 "nbformat": 4,
 "nbformat_minor": 2
}
