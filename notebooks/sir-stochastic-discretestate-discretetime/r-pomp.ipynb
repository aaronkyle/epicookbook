{
 "cells": [
  {
   "cell_type": "markdown",
   "metadata": {},
   "source": [
    "### Stochastic SIR model using pomp"
   ]
  },
  {
   "cell_type": "code",
   "execution_count": 1,
   "metadata": {},
   "outputs": [],
   "source": [
    "library(pomp)\n",
    "library(reshape2)"
   ]
  },
  {
   "cell_type": "code",
   "execution_count": 2,
   "metadata": {},
   "outputs": [],
   "source": [
    "sir.step <- \"\n",
    "double lambd = bet * (I+iota) / N;\n",
    "double ifrac = 1.0 - exp(-lambd *dt);\n",
    "double rfrac = 1.0 - exp(-gamm*dt);\n",
    "double infection = rbinom(S, ifrac);\n",
    "double recovery = rbinom(I, rfrac);\n",
    "S += -infection;\n",
    "I += infection - recovery;\n",
    "R += recovery;\n",
    "Y += infection;\n",
    "\"\n",
    "\n",
    "rmeas <- \"\n",
    "Z = Y;\n",
    "\""
   ]
  },
  {
   "cell_type": "code",
   "execution_count": 3,
   "metadata": {},
   "outputs": [],
   "source": [
    "pomp(\n",
    "  data=data.frame(time=seq(0,200,by=0.1),Z=rep(0,2001)),\n",
    "  times=\"time\",\n",
    "  t0=0,\n",
    "  rmeasure=Csnippet(rmeas),\n",
    "  rprocess=euler.sim(\n",
    "    step.fun=Csnippet(sir.step),\n",
    "    delta.t=0.1\n",
    "  ),\n",
    "  statenames=c(\"S\",\"I\",\"R\",\"Y\"),\n",
    "  paramnames=c(\n",
    "    \"bet\",\"gamm\",\"iota\", \"N\"\n",
    "  ), \n",
    "  initializer=function(params, t0, ...) {\n",
    "    x0 <- c(S=999,I=1,R=0,Y=0)\n",
    "    x0\n",
    "  }, \n",
    "  params=c(bet=0.1, gamm=0.05, iota=0.01, N=1000.0)\n",
    ") -> sir"
   ]
  },
  {
   "cell_type": "code",
   "execution_count": 4,
   "metadata": {},
   "outputs": [],
   "source": [
    "set.seed(42)"
   ]
  },
  {
   "cell_type": "code",
   "execution_count": 5,
   "metadata": {},
   "outputs": [],
   "source": [
    "sir_sim <- simulate(sir)"
   ]
  },
  {
   "cell_type": "code",
   "execution_count": 6,
   "metadata": {},
   "outputs": [
    {
     "data": {
      "text/plain": [
       "2001 records of 1 observables, recorded from t = 0 to 200 \n",
       "summary of data:\n",
       "       Z        \n",
       " Min.   :  0.0  \n",
       " 1st Qu.:  6.0  \n",
       " Median : 73.0  \n",
       " Mean   :163.3  \n",
       " 3rd Qu.:285.0  \n",
       " Max.   :574.0  \n",
       "zero time, t0 = 0\n",
       "process model simulator, rprocess = function (xstart, times, params, ..., zeronames = character(0), \n",
       "    tcovar, covar, .getnativesymbolinfo = TRUE) \n",
       "{\n",
       "    tryCatch(.Call(euler_model_simulator, func = efun, xstart = xstart, \n",
       "        times = times, params = params, deltat = object@delta.t, \n",
       "        method = 0L, zeronames = zeronames, tcovar = tcovar, \n",
       "        covar = covar, args = pairlist(...), gnsi = .getnativesymbolinfo), \n",
       "        error = function(e) {\n",
       "            stop(ep, conditionMessage(e), call. = FALSE)\n",
       "        })\n",
       "}\n",
       "<environment: 0x55f3738>\n",
       "process model density, dprocess = function (x, times, params, log = FALSE, ...) \n",
       "stop(sQuote(\"dprocess\"), \" not specified\", call. = FALSE)\n",
       "<environment: 0x4afab20>\n",
       "measurement model simulator, rmeasure = native function ‘__pomp_rmeasure’, defined by a Csnippet\n",
       "measurement model density, dmeasure = not specified\n",
       "prior simulator, rprior = not specified\n",
       "prior density, dprior = native function ‘_pomp_default_dprior’, dynamically loaded from ‘pomp’\n",
       "skeleton = not specified\n",
       "initializer = function(params, t0, ...) {\n",
       "    x0 <- c(S=999,I=1,R=0,Y=0)\n",
       "    x0\n",
       "  }\n",
       "parameter transformation (to estimation scale) = not specified\n",
       "parameter transformation (from estimation scale) = not specified\n",
       "parameter(s):\n",
       "  bet  gamm  iota     N \n",
       "1e-01 5e-02 1e-02 1e+03 "
      ]
     },
     "metadata": {},
     "output_type": "display_data"
    }
   ],
   "source": [
    "sir_sim"
   ]
  },
  {
   "cell_type": "code",
   "execution_count": 7,
   "metadata": {},
   "outputs": [],
   "source": [
    "sir_out <- data.frame(Time=sir_sim@times,Cases=as.integer(sir_sim@data))"
   ]
  },
  {
   "cell_type": "code",
   "execution_count": 8,
   "metadata": {},
   "outputs": [],
   "source": [
    "sir_out_long <- melt(as.data.frame(sir_out),\"Time\")"
   ]
  },
  {
   "cell_type": "markdown",
   "metadata": {},
   "source": [
    "#### Visualisation"
   ]
  },
  {
   "cell_type": "code",
   "execution_count": 9,
   "metadata": {},
   "outputs": [],
   "source": [
    "library(ggplot2)"
   ]
  },
  {
   "cell_type": "code",
   "execution_count": 10,
   "metadata": {},
   "outputs": [
    {
     "data": {},
     "metadata": {},
     "output_type": "display_data"
    },
    {
     "data": {
      "image/png": "[encoded data removed]",
      "text/plain": [
       "plot without title"
      ]
     },
     "metadata": {},
     "output_type": "display_data"
    }
   ],
   "source": [
    "ggplot(sir_out_long,aes(x=Time,y=value,colour=variable,group=variable))+\n",
    "  # Add line\n",
    "  geom_step(lwd=2)+\n",
    "  #Add labels\n",
    "  xlab(\"Time\")+ylab(\"Cases\")+\n",
    "  theme(legend.position=\"none\")"
   ]
  }
 ],
 "metadata": {
  "kernelspec": {
   "display_name": "R",
   "language": "R",
   "name": "ir"
  },
  "language_info": {
   "codemirror_mode": "r",
   "file_extension": ".r",
   "mimetype": "text/x-r-source",
   "name": "R",
   "pygments_lexer": "r",
   "version": "3.4.4"
  }
 },
 "nbformat": 4,
 "nbformat_minor": 2
}
